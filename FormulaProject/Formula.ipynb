{
 "cells": [
  {
   "cell_type": "code",
   "execution_count": 1,
   "metadata": {},
   "outputs": [],
   "source": [
    "import numpy as np\n",
    "import pandas as pd\n",
    "import matplotlib.pyplot as plt"
   ]
  },
  {
   "cell_type": "markdown",
   "metadata": {},
   "source": [
    "# extracción de datos"
   ]
  },
  {
   "cell_type": "code",
   "execution_count": 2,
   "metadata": {},
   "outputs": [],
   "source": [
    "path = \"/home/ernesteins/Documents/Introduccion-al-desarrollo-web/yaselga-moreira-ernesto-daniel/FormulaProject/F1\"\n",
    "\n",
    "circuits =  pd.read_csv(path+'/circuits.csv',index_col=\"circuitId\")\n",
    "constructorResults =  pd.read_csv(path+'/constructorResults.csv',index_col=\"constructorResultsId\")\n",
    "constructors =  pd.read_csv(path+'/constructors.csv',index_col=\"constructorId\")\n",
    "constructorStandings =  pd.read_csv(path+'/constructorStandings.csv',index_col=\"constructorStandingsId\")\n",
    "drivers =  pd.read_csv(path+'/drivers.csv',index_col=\"driverId\")\n",
    "driverStandings =  pd.read_csv(path+'/driverStandings.csv',index_col=\"driverStandingsId\")\n",
    "lapTimes =  pd.read_csv(path+'/lapTimes.csv',index_col=\"raceId\")\n",
    "pitStops =  pd.read_csv(path+'/pitStops.csv',index_col=\"raceId\")\n",
    "qualifying =  pd.read_csv(path+'/qualifying.csv',index_col=\"qualifyId\")\n",
    "races =  pd.read_csv(path+'/races.csv',index_col=\"raceId\")\n",
    "results =  pd.read_csv(path+'/results.csv',index_col=\"resultId\")\n",
    "seasons =  pd.read_csv(path+'/seasons.csv')\n",
    "status =  pd.read_csv(path+'/status.csv',index_col=\"statusId\")\n"
   ]
  },
  {
   "cell_type": "markdown",
   "metadata": {},
   "source": [
    "### CUÁNTOS CIRCUITOS DE LA F1 HAN HABIDO A LO LARGO DE LOS TIEMPOS"
   ]
  },
  {
   "cell_type": "code",
   "execution_count": 3,
   "metadata": {},
   "outputs": [
    {
     "name": "stdout",
     "output_type": "stream",
     "text": [
      "Han existido un total de:  73  circuitos a lo largo de la historia de la F1\n",
      "circuitId\n",
      "1      Albert Park Grand Prix Circuit\n",
      "2        Sepang International Circuit\n",
      "3       Bahrain International Circuit\n",
      "4      Circuit de Barcelona-Catalunya\n",
      "5                       Istanbul Park\n",
      "6                   Circuit de Monaco\n",
      "7           Circuit Gilles Villeneuve\n",
      "8       Circuit de Nevers Magny-Cours\n",
      "9                 Silverstone Circuit\n",
      "10                     Hockenheimring\n",
      "11                        Hungaroring\n",
      "12            Valencia Street Circuit\n",
      "13       Circuit de Spa-Francorchamps\n",
      "14       Autodromo Nazionale di Monza\n",
      "15          Marina Bay Street Circuit\n",
      "16                      Fuji Speedway\n",
      "17     Shanghai International Circuit\n",
      "18         Autodromo Jose Carlos Pace\n",
      "19        Indianapolis Motor Speedway\n",
      "20                        nurburgring\n",
      "21      Autodromo Enzo e Dino Ferrari\n",
      "22                     Suzuka Circuit\n",
      "23                            A1-Ring\n",
      "24                 Yas Marina Circuit\n",
      "25      Autodromo Juan y Oscar Galvez\n",
      "26                  Circuito de Jerez\n",
      "27               Autodromo do Estoril\n",
      "28      Okayama International Circuit\n",
      "29            Adelaide Street Circuit\n",
      "30                            Kyalami\n",
      "                   ...               \n",
      "44           Las Vegas Street Circuit\n",
      "45                             Jarama\n",
      "46                       Watkins Glen\n",
      "47               Scandinavian Raceway\n",
      "48      Mosport International Raceway\n",
      "49                           Montjuic\n",
      "50                   Nivelles-Baulers\n",
      "51                    Charade Circuit\n",
      "52             Circuit Mont-Tremblant\n",
      "53                  Rouen-Les-Essarts\n",
      "54                            Le Mans\n",
      "55                        Reims-Gueux\n",
      "56              Prince George Circuit\n",
      "57                            Zeltweg\n",
      "58                            Aintree\n",
      "59               Circuito da Boavista\n",
      "60    Riverside International Raceway\n",
      "61                               AVUS\n",
      "62              Monsanto Park Circuit\n",
      "63      Sebring International Raceway\n",
      "64                           Ain Diab\n",
      "65                    Pescara Circuit\n",
      "66                 Circuit Bremgarten\n",
      "67               Circuit de Pedralbes\n",
      "68        Buddh International Circuit\n",
      "69            Circuit of the Americas\n",
      "70                      Red Bull Ring\n",
      "71                     Sochi Autodrom\n",
      "72       Port Imperial Street Circuit\n",
      "73                  Baku City Circuit\n",
      "Name: name, Length: 73, dtype: object\n"
     ]
    }
   ],
   "source": [
    "print (\"Han existido un total de: \",circuits[\"name\"].size,\" circuitos a lo largo de la historia de la F1\")\n",
    "print (circuits[\"name\"])"
   ]
  },
  {
   "cell_type": "markdown",
   "metadata": {},
   "source": [
    "### CIRCUITOS POR PAIS"
   ]
  },
  {
   "cell_type": "code",
   "execution_count": 4,
   "metadata": {},
   "outputs": [
    {
     "data": {
      "image/png": "[encoded data removed]",
      "text/plain": [
       "<Figure size 432x288 with 1 Axes>"
      ]
     },
     "metadata": {
      "needs_background": "light"
     },
     "output_type": "display_data"
    }
   ],
   "source": [
    "plt.title(\"Circuitos por Nacion\"),\n",
    "circuits['country'].value_counts().plot(kind='bar')\n",
    "plt.show()"
   ]
  },
  {
   "cell_type": "markdown",
   "metadata": {},
   "source": [
    "### HAN EXISTIDO MÁS PILOTOS DE NACIONES EUROPEAS"
   ]
  },
  {
   "cell_type": "code",
   "execution_count": 5,
   "metadata": {},
   "outputs": [
    {
     "data": {
      "text/plain": [
       "<matplotlib.axes._subplots.AxesSubplot at 0x7f7b4868eac8>"
      ]
     },
     "execution_count": 5,
     "metadata": {},
     "output_type": "execute_result"
    },
    {
     "data": {
      "image/png": "[encoded data removed]",
      "text/plain": [
       "<Figure size 432x288 with 1 Axes>"
      ]
     },
     "metadata": {
      "needs_background": "light"
     },
     "output_type": "display_data"
    }
   ],
   "source": [
    "plt.title(\"Conductores por Nacion\"),\n",
    "drivers['nationality'].value_counts().plot(kind='bar')"
   ]
  },
  {
   "cell_type": "markdown",
   "metadata": {},
   "source": [
    "### EL PAÍS QUE MÁS ESCUDERÍAS HA PRESENTADO ES EUROPEO"
   ]
  },
  {
   "cell_type": "code",
   "execution_count": 6,
   "metadata": {},
   "outputs": [
    {
     "data": {
      "text/plain": [
       "<matplotlib.axes._subplots.AxesSubplot at 0x7f7b48626f60>"
      ]
     },
     "execution_count": 6,
     "metadata": {},
     "output_type": "execute_result"
    },
    {
     "data": {
      "image/png": "[encoded data removed]",
      "text/plain": [
       "<Figure size 432x288 with 1 Axes>"
      ]
     },
     "metadata": {
      "needs_background": "light"
     },
     "output_type": "display_data"
    }
   ],
   "source": [
    "plt.title(\"Conductores por Nacion\"),\n",
    "constructors['nationality'].value_counts().plot(kind='bar')"
   ]
  },
  {
   "cell_type": "markdown",
   "metadata": {},
   "source": [
    "### ANTES SE CORRÍAN MENOS CARRERAS POR AÑO"
   ]
  },
  {
   "cell_type": "code",
   "execution_count": 7,
   "metadata": {},
   "outputs": [
    {
     "data": {
      "image/png": "[encoded data removed]",
      "text/plain": [
       "<Figure size 432x288 with 1 Axes>"
      ]
     },
     "metadata": {
      "needs_background": "light"
     },
     "output_type": "display_data"
    }
   ],
   "source": [
    "plt.title(\"Circuitos por año\")\n",
    "plt.bar(races['year'].unique(),\n",
    "        races['year'].value_counts(False,False))\n",
    "plt.show()"
   ]
  },
  {
   "cell_type": "markdown",
   "metadata": {},
   "source": [
    "### PIT-STOP MÁS RAPIDOS POR CIRCUITO"
   ]
  },
  {
   "cell_type": "code",
   "execution_count": 8,
   "metadata": {},
   "outputs": [
    {
     "data": {
      "text/html": [
       "<div>\n",
       "<style scoped>\n",
       "    .dataframe tbody tr th:only-of-type {\n",
       "        vertical-align: middle;\n",
       "    }\n",
       "\n",
       "    .dataframe tbody tr th {\n",
       "        vertical-align: top;\n",
       "    }\n",
       "\n",
       "    .dataframe thead th {\n",
       "        text-align: right;\n",
       "    }\n",
       "</style>\n",
       "<table border=\"1\" class=\"dataframe\">\n",
       "  <thead>\n",
       "    <tr style=\"text-align: right;\">\n",
       "      <th></th>\n",
       "      <th>milliseconds</th>\n",
       "      <th>date</th>\n",
       "    </tr>\n",
       "    <tr>\n",
       "      <th>name</th>\n",
       "      <th></th>\n",
       "      <th></th>\n",
       "    </tr>\n",
       "  </thead>\n",
       "  <tbody>\n",
       "    <tr>\n",
       "      <th>Abu Dhabi Grand Prix</th>\n",
       "      <td>12897</td>\n",
       "      <td>2011-11-13</td>\n",
       "    </tr>\n",
       "    <tr>\n",
       "      <th>Australian Grand Prix</th>\n",
       "      <td>16867</td>\n",
       "      <td>2011-03-27</td>\n",
       "    </tr>\n",
       "    <tr>\n",
       "      <th>Austrian Grand Prix</th>\n",
       "      <td>16139</td>\n",
       "      <td>2014-06-22</td>\n",
       "    </tr>\n",
       "    <tr>\n",
       "      <th>Azerbaijan Grand Prix</th>\n",
       "      <td>14943</td>\n",
       "      <td>2017-06-25</td>\n",
       "    </tr>\n",
       "    <tr>\n",
       "      <th>Bahrain Grand Prix</th>\n",
       "      <td>18989</td>\n",
       "      <td>2012-04-22</td>\n",
       "    </tr>\n",
       "    <tr>\n",
       "      <th>Belgian Grand Prix</th>\n",
       "      <td>13914</td>\n",
       "      <td>2011-08-28</td>\n",
       "    </tr>\n",
       "    <tr>\n",
       "      <th>Brazilian Grand Prix</th>\n",
       "      <td>14029</td>\n",
       "      <td>2011-11-27</td>\n",
       "    </tr>\n",
       "    <tr>\n",
       "      <th>British Grand Prix</th>\n",
       "      <td>22895</td>\n",
       "      <td>2011-07-10</td>\n",
       "    </tr>\n",
       "    <tr>\n",
       "      <th>Canadian Grand Prix</th>\n",
       "      <td>14446</td>\n",
       "      <td>2011-06-12</td>\n",
       "    </tr>\n",
       "    <tr>\n",
       "      <th>Chinese Grand Prix</th>\n",
       "      <td>13900</td>\n",
       "      <td>2011-04-17</td>\n",
       "    </tr>\n",
       "    <tr>\n",
       "      <th>European Grand Prix</th>\n",
       "      <td>14659</td>\n",
       "      <td>2011-06-26</td>\n",
       "    </tr>\n",
       "    <tr>\n",
       "      <th>German Grand Prix</th>\n",
       "      <td>16831</td>\n",
       "      <td>2011-07-24</td>\n",
       "    </tr>\n",
       "    <tr>\n",
       "      <th>Hungarian Grand Prix</th>\n",
       "      <td>13173</td>\n",
       "      <td>2011-07-31</td>\n",
       "    </tr>\n",
       "    <tr>\n",
       "      <th>Indian Grand Prix</th>\n",
       "      <td>14919</td>\n",
       "      <td>2011-10-30</td>\n",
       "    </tr>\n",
       "    <tr>\n",
       "      <th>Italian Grand Prix</th>\n",
       "      <td>15008</td>\n",
       "      <td>2011-09-11</td>\n",
       "    </tr>\n",
       "    <tr>\n",
       "      <th>Japanese Grand Prix</th>\n",
       "      <td>14250</td>\n",
       "      <td>2011-10-09</td>\n",
       "    </tr>\n",
       "    <tr>\n",
       "      <th>Korean Grand Prix</th>\n",
       "      <td>13984</td>\n",
       "      <td>2011-10-16</td>\n",
       "    </tr>\n",
       "    <tr>\n",
       "      <th>Malaysian Grand Prix</th>\n",
       "      <td>15684</td>\n",
       "      <td>2011-04-10</td>\n",
       "    </tr>\n",
       "    <tr>\n",
       "      <th>Mexican Grand Prix</th>\n",
       "      <td>21709</td>\n",
       "      <td>2015-11-01</td>\n",
       "    </tr>\n",
       "    <tr>\n",
       "      <th>Monaco Grand Prix</th>\n",
       "      <td>19347</td>\n",
       "      <td>2011-05-29</td>\n",
       "    </tr>\n",
       "    <tr>\n",
       "      <th>Russian Grand Prix</th>\n",
       "      <td>25037</td>\n",
       "      <td>2014-10-12</td>\n",
       "    </tr>\n",
       "    <tr>\n",
       "      <th>Singapore Grand Prix</th>\n",
       "      <td>24299</td>\n",
       "      <td>2011-09-25</td>\n",
       "    </tr>\n",
       "    <tr>\n",
       "      <th>Spanish Grand Prix</th>\n",
       "      <td>13259</td>\n",
       "      <td>2011-05-22</td>\n",
       "    </tr>\n",
       "    <tr>\n",
       "      <th>Turkish Grand Prix</th>\n",
       "      <td>13925</td>\n",
       "      <td>2011-05-08</td>\n",
       "    </tr>\n",
       "    <tr>\n",
       "      <th>United States Grand Prix</th>\n",
       "      <td>18692</td>\n",
       "      <td>2012-11-18</td>\n",
       "    </tr>\n",
       "  </tbody>\n",
       "</table>\n",
       "</div>"
      ],
      "text/plain": [
       "                          milliseconds        date\n",
       "name                                              \n",
       "Abu Dhabi Grand Prix             12897  2011-11-13\n",
       "Australian Grand Prix            16867  2011-03-27\n",
       "Austrian Grand Prix              16139  2014-06-22\n",
       "Azerbaijan Grand Prix            14943  2017-06-25\n",
       "Bahrain Grand Prix               18989  2012-04-22\n",
       "Belgian Grand Prix               13914  2011-08-28\n",
       "Brazilian Grand Prix             14029  2011-11-27\n",
       "British Grand Prix               22895  2011-07-10\n",
       "Canadian Grand Prix              14446  2011-06-12\n",
       "Chinese Grand Prix               13900  2011-04-17\n",
       "European Grand Prix              14659  2011-06-26\n",
       "German Grand Prix                16831  2011-07-24\n",
       "Hungarian Grand Prix             13173  2011-07-31\n",
       "Indian Grand Prix                14919  2011-10-30\n",
       "Italian Grand Prix               15008  2011-09-11\n",
       "Japanese Grand Prix              14250  2011-10-09\n",
       "Korean Grand Prix                13984  2011-10-16\n",
       "Malaysian Grand Prix             15684  2011-04-10\n",
       "Mexican Grand Prix               21709  2015-11-01\n",
       "Monaco Grand Prix                19347  2011-05-29\n",
       "Russian Grand Prix               25037  2014-10-12\n",
       "Singapore Grand Prix             24299  2011-09-25\n",
       "Spanish Grand Prix               13259  2011-05-22\n",
       "Turkish Grand Prix               13925  2011-05-08\n",
       "United States Grand Prix         18692  2012-11-18"
      ]
     },
     "execution_count": 8,
     "metadata": {},
     "output_type": "execute_result"
    }
   ],
   "source": [
    "races_pitStop = pd.concat([races, pitStops], axis=1, join_axes=[pitStops.index])\n",
    "races_pitStop[['milliseconds',\n",
    "               'name',\n",
    "               'date']].sort_values(by = 'milliseconds').groupby('name').min()\n"
   ]
  },
  {
   "cell_type": "markdown",
   "metadata": {},
   "source": [
    "### TOP 10 PIT-STOP MÁS RÁPIDOS"
   ]
  },
  {
   "cell_type": "code",
   "execution_count": 9,
   "metadata": {},
   "outputs": [
    {
     "data": {
      "text/html": [
       "<div>\n",
       "<style scoped>\n",
       "    .dataframe tbody tr th:only-of-type {\n",
       "        vertical-align: middle;\n",
       "    }\n",
       "\n",
       "    .dataframe tbody tr th {\n",
       "        vertical-align: top;\n",
       "    }\n",
       "\n",
       "    .dataframe thead th {\n",
       "        text-align: right;\n",
       "    }\n",
       "</style>\n",
       "<table border=\"1\" class=\"dataframe\">\n",
       "  <thead>\n",
       "    <tr style=\"text-align: right;\">\n",
       "      <th></th>\n",
       "      <th>milliseconds</th>\n",
       "      <th>name</th>\n",
       "      <th>date</th>\n",
       "    </tr>\n",
       "    <tr>\n",
       "      <th>raceId</th>\n",
       "      <th></th>\n",
       "      <th></th>\n",
       "      <th></th>\n",
       "    </tr>\n",
       "  </thead>\n",
       "  <tbody>\n",
       "    <tr>\n",
       "      <th>858</th>\n",
       "      <td>12897</td>\n",
       "      <td>Abu Dhabi Grand Prix</td>\n",
       "      <td>2011-11-13</td>\n",
       "    </tr>\n",
       "    <tr>\n",
       "      <th>858</th>\n",
       "      <td>12959</td>\n",
       "      <td>Abu Dhabi Grand Prix</td>\n",
       "      <td>2011-11-13</td>\n",
       "    </tr>\n",
       "    <tr>\n",
       "      <th>851</th>\n",
       "      <td>13173</td>\n",
       "      <td>Hungarian Grand Prix</td>\n",
       "      <td>2011-07-31</td>\n",
       "    </tr>\n",
       "    <tr>\n",
       "      <th>851</th>\n",
       "      <td>13186</td>\n",
       "      <td>Hungarian Grand Prix</td>\n",
       "      <td>2011-07-31</td>\n",
       "    </tr>\n",
       "    <tr>\n",
       "      <th>870</th>\n",
       "      <td>13199</td>\n",
       "      <td>Hungarian Grand Prix</td>\n",
       "      <td>2012-07-29</td>\n",
       "    </tr>\n",
       "    <tr>\n",
       "      <th>851</th>\n",
       "      <td>13201</td>\n",
       "      <td>Hungarian Grand Prix</td>\n",
       "      <td>2011-07-31</td>\n",
       "    </tr>\n",
       "    <tr>\n",
       "      <th>870</th>\n",
       "      <td>13206</td>\n",
       "      <td>Hungarian Grand Prix</td>\n",
       "      <td>2012-07-29</td>\n",
       "    </tr>\n",
       "    <tr>\n",
       "      <th>864</th>\n",
       "      <td>13259</td>\n",
       "      <td>Spanish Grand Prix</td>\n",
       "      <td>2012-05-13</td>\n",
       "    </tr>\n",
       "    <tr>\n",
       "      <th>884</th>\n",
       "      <td>13266</td>\n",
       "      <td>Spanish Grand Prix</td>\n",
       "      <td>2013-05-12</td>\n",
       "    </tr>\n",
       "    <tr>\n",
       "      <th>864</th>\n",
       "      <td>13335</td>\n",
       "      <td>Spanish Grand Prix</td>\n",
       "      <td>2012-05-13</td>\n",
       "    </tr>\n",
       "  </tbody>\n",
       "</table>\n",
       "</div>"
      ],
      "text/plain": [
       "        milliseconds                  name        date\n",
       "raceId                                                \n",
       "858            12897  Abu Dhabi Grand Prix  2011-11-13\n",
       "858            12959  Abu Dhabi Grand Prix  2011-11-13\n",
       "851            13173  Hungarian Grand Prix  2011-07-31\n",
       "851            13186  Hungarian Grand Prix  2011-07-31\n",
       "870            13199  Hungarian Grand Prix  2012-07-29\n",
       "851            13201  Hungarian Grand Prix  2011-07-31\n",
       "870            13206  Hungarian Grand Prix  2012-07-29\n",
       "864            13259    Spanish Grand Prix  2012-05-13\n",
       "884            13266    Spanish Grand Prix  2013-05-12\n",
       "864            13335    Spanish Grand Prix  2012-05-13"
      ]
     },
     "execution_count": 9,
     "metadata": {},
     "output_type": "execute_result"
    }
   ],
   "source": [
    "races_pitStop[['milliseconds',\n",
    "               'name',\n",
    "               'date']].sort_values(by = 'milliseconds').head(10)"
   ]
  },
  {
   "cell_type": "markdown",
   "metadata": {},
   "source": [
    "### LOS CORREDORES DE LA ERA HÍBRIDA TIENEN LAS VUELTAS MÁS RÁPIDAS POR EL DESARROLLO MODERNO DE LOS F1"
   ]
  },
  {
   "cell_type": "code",
   "execution_count": 10,
   "metadata": {},
   "outputs": [
    {
     "data": {
      "text/html": [
       "<div>\n",
       "<style scoped>\n",
       "    .dataframe tbody tr th:only-of-type {\n",
       "        vertical-align: middle;\n",
       "    }\n",
       "\n",
       "    .dataframe tbody tr th {\n",
       "        vertical-align: top;\n",
       "    }\n",
       "\n",
       "    .dataframe thead th {\n",
       "        text-align: right;\n",
       "    }\n",
       "</style>\n",
       "<table border=\"1\" class=\"dataframe\">\n",
       "  <thead>\n",
       "    <tr style=\"text-align: right;\">\n",
       "      <th></th>\n",
       "      <th>minutos</th>\n",
       "      <th>driverRef</th>\n",
       "    </tr>\n",
       "    <tr>\n",
       "      <th>raceId</th>\n",
       "      <th></th>\n",
       "      <th></th>\n",
       "    </tr>\n",
       "  </thead>\n",
       "  <tbody>\n",
       "    <tr>\n",
       "      <th>977</th>\n",
       "      <td>1.123517</td>\n",
       "      <td>hamilton</td>\n",
       "    </tr>\n",
       "    <tr>\n",
       "      <th>977</th>\n",
       "      <td>1.123733</td>\n",
       "      <td>hamilton</td>\n",
       "    </tr>\n",
       "    <tr>\n",
       "      <th>977</th>\n",
       "      <td>1.124033</td>\n",
       "      <td>ricciardo</td>\n",
       "    </tr>\n",
       "    <tr>\n",
       "      <th>977</th>\n",
       "      <td>1.124767</td>\n",
       "      <td>raikkonen</td>\n",
       "    </tr>\n",
       "    <tr>\n",
       "      <th>977</th>\n",
       "      <td>1.124933</td>\n",
       "      <td>vettel</td>\n",
       "    </tr>\n",
       "    <tr>\n",
       "      <th>977</th>\n",
       "      <td>1.125050</td>\n",
       "      <td>hamilton</td>\n",
       "    </tr>\n",
       "    <tr>\n",
       "      <th>977</th>\n",
       "      <td>1.125183</td>\n",
       "      <td>hamilton</td>\n",
       "    </tr>\n",
       "    <tr>\n",
       "      <th>977</th>\n",
       "      <td>1.125633</td>\n",
       "      <td>raikkonen</td>\n",
       "    </tr>\n",
       "    <tr>\n",
       "      <th>977</th>\n",
       "      <td>1.125717</td>\n",
       "      <td>hamilton</td>\n",
       "    </tr>\n",
       "    <tr>\n",
       "      <th>977</th>\n",
       "      <td>1.126183</td>\n",
       "      <td>hamilton</td>\n",
       "    </tr>\n",
       "    <tr>\n",
       "      <th>977</th>\n",
       "      <td>1.126233</td>\n",
       "      <td>vettel</td>\n",
       "    </tr>\n",
       "    <tr>\n",
       "      <th>977</th>\n",
       "      <td>1.126500</td>\n",
       "      <td>ricciardo</td>\n",
       "    </tr>\n",
       "    <tr>\n",
       "      <th>977</th>\n",
       "      <td>1.126800</td>\n",
       "      <td>hamilton</td>\n",
       "    </tr>\n",
       "    <tr>\n",
       "      <th>977</th>\n",
       "      <td>1.127450</td>\n",
       "      <td>hamilton</td>\n",
       "    </tr>\n",
       "    <tr>\n",
       "      <th>977</th>\n",
       "      <td>1.127917</td>\n",
       "      <td>hamilton</td>\n",
       "    </tr>\n",
       "    <tr>\n",
       "      <th>977</th>\n",
       "      <td>1.128000</td>\n",
       "      <td>raikkonen</td>\n",
       "    </tr>\n",
       "    <tr>\n",
       "      <th>977</th>\n",
       "      <td>1.128050</td>\n",
       "      <td>ricciardo</td>\n",
       "    </tr>\n",
       "    <tr>\n",
       "      <th>977</th>\n",
       "      <td>1.128283</td>\n",
       "      <td>ricciardo</td>\n",
       "    </tr>\n",
       "    <tr>\n",
       "      <th>977</th>\n",
       "      <td>1.128383</td>\n",
       "      <td>ricciardo</td>\n",
       "    </tr>\n",
       "    <tr>\n",
       "      <th>977</th>\n",
       "      <td>1.128433</td>\n",
       "      <td>vettel</td>\n",
       "    </tr>\n",
       "  </tbody>\n",
       "</table>\n",
       "</div>"
      ],
      "text/plain": [
       "         minutos  driverRef\n",
       "raceId                     \n",
       "977     1.123517   hamilton\n",
       "977     1.123733   hamilton\n",
       "977     1.124033  ricciardo\n",
       "977     1.124767  raikkonen\n",
       "977     1.124933     vettel\n",
       "977     1.125050   hamilton\n",
       "977     1.125183   hamilton\n",
       "977     1.125633  raikkonen\n",
       "977     1.125717   hamilton\n",
       "977     1.126183   hamilton\n",
       "977     1.126233     vettel\n",
       "977     1.126500  ricciardo\n",
       "977     1.126800   hamilton\n",
       "977     1.127450   hamilton\n",
       "977     1.127917   hamilton\n",
       "977     1.128000  raikkonen\n",
       "977     1.128050  ricciardo\n",
       "977     1.128283  ricciardo\n",
       "977     1.128383  ricciardo\n",
       "977     1.128433     vettel"
      ]
     },
     "execution_count": 10,
     "metadata": {},
     "output_type": "execute_result"
    }
   ],
   "source": [
    "laps_drivers = lapTimes.join(drivers,\"driverId\")\n",
    "laps_drivers[\"milliseconds\"] = laps_drivers[\"milliseconds\"]/(1000*60)\n",
    "laps_drivers.rename(columns={\"milliseconds\":\"minutos\"},inplace = True)\n",
    "\n",
    "laps_drivers[[\"minutos\",\"driverRef\"]].sort_values(by = 'minutos').head(20)"
   ]
  },
  {
   "cell_type": "markdown",
   "metadata": {},
   "source": [
    "### LAS VUELTAS MÁS RAPIDAS (EN CARRERA) SIEMPRE FUERON AL FINAL DE LA CARRERA\n"
   ]
  },
  {
   "cell_type": "code",
   "execution_count": 14,
   "metadata": {},
   "outputs": [
    {
     "data": {
      "text/html": [
       "<div>\n",
       "<style scoped>\n",
       "    .dataframe tbody tr th:only-of-type {\n",
       "        vertical-align: middle;\n",
       "    }\n",
       "\n",
       "    .dataframe tbody tr th {\n",
       "        vertical-align: top;\n",
       "    }\n",
       "\n",
       "    .dataframe thead th {\n",
       "        text-align: right;\n",
       "    }\n",
       "</style>\n",
       "<table border=\"1\" class=\"dataframe\">\n",
       "  <thead>\n",
       "    <tr style=\"text-align: right;\">\n",
       "      <th></th>\n",
       "      <th>minutos</th>\n",
       "      <th>lap</th>\n",
       "    </tr>\n",
       "    <tr>\n",
       "      <th>raceId</th>\n",
       "      <th></th>\n",
       "      <th></th>\n",
       "    </tr>\n",
       "  </thead>\n",
       "  <tbody>\n",
       "    <tr>\n",
       "      <th>977</th>\n",
       "      <td>1.123517</td>\n",
       "      <td>69</td>\n",
       "    </tr>\n",
       "    <tr>\n",
       "      <th>977</th>\n",
       "      <td>1.123733</td>\n",
       "      <td>65</td>\n",
       "    </tr>\n",
       "    <tr>\n",
       "      <th>977</th>\n",
       "      <td>1.124033</td>\n",
       "      <td>69</td>\n",
       "    </tr>\n",
       "    <tr>\n",
       "      <th>977</th>\n",
       "      <td>1.124767</td>\n",
       "      <td>68</td>\n",
       "    </tr>\n",
       "    <tr>\n",
       "      <th>977</th>\n",
       "      <td>1.124933</td>\n",
       "      <td>69</td>\n",
       "    </tr>\n",
       "    <tr>\n",
       "      <th>977</th>\n",
       "      <td>1.125050</td>\n",
       "      <td>68</td>\n",
       "    </tr>\n",
       "    <tr>\n",
       "      <th>977</th>\n",
       "      <td>1.125183</td>\n",
       "      <td>61</td>\n",
       "    </tr>\n",
       "    <tr>\n",
       "      <th>977</th>\n",
       "      <td>1.125633</td>\n",
       "      <td>64</td>\n",
       "    </tr>\n",
       "    <tr>\n",
       "      <th>977</th>\n",
       "      <td>1.125717</td>\n",
       "      <td>67</td>\n",
       "    </tr>\n",
       "    <tr>\n",
       "      <th>977</th>\n",
       "      <td>1.126183</td>\n",
       "      <td>59</td>\n",
       "    </tr>\n",
       "    <tr>\n",
       "      <th>977</th>\n",
       "      <td>1.126233</td>\n",
       "      <td>67</td>\n",
       "    </tr>\n",
       "    <tr>\n",
       "      <th>977</th>\n",
       "      <td>1.126500</td>\n",
       "      <td>66</td>\n",
       "    </tr>\n",
       "    <tr>\n",
       "      <th>977</th>\n",
       "      <td>1.126800</td>\n",
       "      <td>58</td>\n",
       "    </tr>\n",
       "    <tr>\n",
       "      <th>977</th>\n",
       "      <td>1.127450</td>\n",
       "      <td>66</td>\n",
       "    </tr>\n",
       "    <tr>\n",
       "      <th>977</th>\n",
       "      <td>1.127917</td>\n",
       "      <td>60</td>\n",
       "    </tr>\n",
       "    <tr>\n",
       "      <th>977</th>\n",
       "      <td>1.128000</td>\n",
       "      <td>54</td>\n",
       "    </tr>\n",
       "    <tr>\n",
       "      <th>977</th>\n",
       "      <td>1.128050</td>\n",
       "      <td>59</td>\n",
       "    </tr>\n",
       "    <tr>\n",
       "      <th>977</th>\n",
       "      <td>1.128283</td>\n",
       "      <td>65</td>\n",
       "    </tr>\n",
       "    <tr>\n",
       "      <th>977</th>\n",
       "      <td>1.128383</td>\n",
       "      <td>64</td>\n",
       "    </tr>\n",
       "    <tr>\n",
       "      <th>977</th>\n",
       "      <td>1.128433</td>\n",
       "      <td>61</td>\n",
       "    </tr>\n",
       "  </tbody>\n",
       "</table>\n",
       "</div>"
      ],
      "text/plain": [
       "         minutos  lap\n",
       "raceId               \n",
       "977     1.123517   69\n",
       "977     1.123733   65\n",
       "977     1.124033   69\n",
       "977     1.124767   68\n",
       "977     1.124933   69\n",
       "977     1.125050   68\n",
       "977     1.125183   61\n",
       "977     1.125633   64\n",
       "977     1.125717   67\n",
       "977     1.126183   59\n",
       "977     1.126233   67\n",
       "977     1.126500   66\n",
       "977     1.126800   58\n",
       "977     1.127450   66\n",
       "977     1.127917   60\n",
       "977     1.128000   54\n",
       "977     1.128050   59\n",
       "977     1.128283   65\n",
       "977     1.128383   64\n",
       "977     1.128433   61"
      ]
     },
     "execution_count": 14,
     "metadata": {},
     "output_type": "execute_result"
    }
   ],
   "source": [
    "laps_drivers[[\"minutos\",\"lap\"]].sort_values(by = 'minutos').head(20)"
   ]
  },
  {
   "cell_type": "markdown",
   "metadata": {},
   "source": [
    "### FERRARI ES LA ESCUDERÍA CON MÁS VICTORIAS"
   ]
  },
  {
   "cell_type": "code",
   "execution_count": 17,
   "metadata": {
    "scrolled": true
   },
   "outputs": [
    {
     "name": "stdout",
     "output_type": "stream",
     "text": [
      "Ferrari            224\n",
      "McLaren            165\n",
      "Williams           114\n",
      "Mercedes            75\n",
      "Red Bull            63\n",
      "Renault             46\n",
      "Team Lotus          44\n",
      "Benetton            29\n",
      "Lotus-Climax        23\n",
      "Cooper-Climax       20\n",
      "Brawn               17\n",
      "Brabham-Repco       16\n",
      "Tyrrell             16\n",
      "BRM                 14\n",
      "Lotus-Ford          12\n",
      "Matra-Ford          11\n",
      "Brabham              6\n",
      "Cooper               4\n",
      "Ligier               4\n",
      "Vanwall              3\n",
      "March                3\n",
      "Wolf                 1\n",
      "BMW Sauber           1\n",
      "Cooper-Maserati      1\n",
      "Name: name, dtype: int64\n"
     ]
    }
   ],
   "source": [
    "constructor_standing_completo = constructorStandings.join(constructors,\"constructorId\")\n",
    "constructores_P1_bool = constructor_standing_completo[\"position\"]==1\n",
    "constructores_P1 =  constructor_standing_completo[constructores_P1_bool]\n",
    "print(constructores_P1[\"name\"].value_counts())"
   ]
  },
  {
   "cell_type": "markdown",
   "metadata": {},
   "source": [
    "### EL CORREDOR MÁS JOVEN EN PISTA ES MAX VERSTAPPEN"
   ]
  },
  {
   "cell_type": "code",
   "execution_count": 34,
   "metadata": {},
   "outputs": [
    {
     "name": "stdout",
     "output_type": "stream",
     "text": [
      "El piloto más tenía:  19 años y era: \n"
     ]
    },
    {
     "data": {
      "text/html": [
       "<div>\n",
       "<style scoped>\n",
       "    .dataframe tbody tr th:only-of-type {\n",
       "        vertical-align: middle;\n",
       "    }\n",
       "\n",
       "    .dataframe tbody tr th {\n",
       "        vertical-align: top;\n",
       "    }\n",
       "\n",
       "    .dataframe thead th {\n",
       "        text-align: right;\n",
       "    }\n",
       "</style>\n",
       "<table border=\"1\" class=\"dataframe\">\n",
       "  <thead>\n",
       "    <tr style=\"text-align: right;\">\n",
       "      <th></th>\n",
       "      <th>driverRef</th>\n",
       "      <th>number</th>\n",
       "      <th>code</th>\n",
       "      <th>forename</th>\n",
       "      <th>surname</th>\n",
       "      <th>dob</th>\n",
       "      <th>nationality</th>\n",
       "    </tr>\n",
       "    <tr>\n",
       "      <th>driverId</th>\n",
       "      <th></th>\n",
       "      <th></th>\n",
       "      <th></th>\n",
       "      <th></th>\n",
       "      <th></th>\n",
       "      <th></th>\n",
       "      <th></th>\n",
       "    </tr>\n",
       "  </thead>\n",
       "  <tbody>\n",
       "    <tr>\n",
       "      <th>840</th>\n",
       "      <td>stroll</td>\n",
       "      <td>18.0</td>\n",
       "      <td>STR</td>\n",
       "      <td>Lance</td>\n",
       "      <td>Stroll</td>\n",
       "      <td>29/10/1998</td>\n",
       "      <td>Canadian</td>\n",
       "    </tr>\n",
       "  </tbody>\n",
       "</table>\n",
       "</div>"
      ],
      "text/plain": [
       "         driverRef  number code forename surname         dob nationality\n",
       "driverId                                                                \n",
       "840         stroll    18.0  STR    Lance  Stroll  29/10/1998    Canadian"
      ]
     },
     "execution_count": 34,
     "metadata": {},
     "output_type": "execute_result"
    }
   ],
   "source": [
    "drivers_dob = drivers[\"dob\"]\n",
    "drivers_dob = drivers_dob.str.split(\"/\",expand = True)\n",
    "drivers_dob.rename(columns={0:\"dayob\",1:\"monthob\",2:\"yearob\"},inplace = True)\n",
    "drivers_dob = drivers.join(drivers_dob,\"driverId\")\n",
    "\n",
    "drivers_dob[\"yearob\"] = drivers_dob[\"yearob\"].fillna(0).astype(object).astype(int)\n",
    "print(\"El piloto más tenía: \", 2017 - drivers_dob[\"yearob\"].max(),\"años y era: \")\n",
    "drivers_dob[[\"driverRef\",\"number\",\"code\",\"forename\",\"surname\",\"dob\",\"nationality\"]].loc[drivers_dob[\"yearob\"]==drivers_dob[\"yearob\"].max()]"
   ]
  },
  {
   "cell_type": "code",
   "execution_count": null,
   "metadata": {},
   "outputs": [],
   "source": []
  }
 ],
 "metadata": {
  "kernelspec": {
   "display_name": "Python 3",
   "language": "python",
   "name": "python3"
  },
  "language_info": {
   "codemirror_mode": {
    "name": "ipython",
    "version": 3
   },
   "file_extension": ".py",
   "mimetype": "text/x-python",
   "name": "python",
   "nbconvert_exporter": "python",
   "pygments_lexer": "ipython3",
   "version": "3.7.0"
  }
 },
 "nbformat": 4,
 "nbformat_minor": 2
}

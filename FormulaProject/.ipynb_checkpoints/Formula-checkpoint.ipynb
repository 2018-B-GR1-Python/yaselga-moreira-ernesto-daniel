{
 "cells": [
  {
   "cell_type": "code",
   "execution_count": 2,
   "metadata": {},
   "outputs": [],
   "source": [
    "import numpy as np"
   ]
  },
  {
   "cell_type": "code",
   "execution_count": null,
   "metadata": {},
   "outputs": [],
   "source": [
    "circuits = np.genfromtxt('F1/circuits.csv',delimiter=',')\n",
    "drivers = np.genfromtxt('F1/drivers.csv',delimiter=',')\n",
    "qualifying = np.genfromtxt('F1/qualifying.csv',delimiter=',')\n",
    "status = np.genfromtxt('F1/status.csv',delimiter=',')\n",
    "constructorResults = np.genfromtxt('F1/constructorResults.csv',delimiter=',')\n",
    "driverStandings = np.genfromtxt('F1/driverStandings.csv',delimiter=',')\n",
    "races = np.genfromtxt('F1/races.csv',delimiter=',')\n",
    "constructors = np.genfromtxt('F1/constructors.csv',delimiter=',')\n",
    "lapTimes = np.genfromtxt('F1/lapTimes.csv',delimiter=',')\n",
    "results = np.genfromtxt('F1/results.csv',delimiter=',')\n",
    "constructorStandings = np.genfromtxt('F1/constructorStandings.csv',delimiter=',')\n",
    "pitStops = np.genfromtxt('F1/pitStops.csv',delimiter=',')\n",
    "seasons = np.genfromtxt('F1/seasons.csv',delimiter=',')"
   ]
  },
  {
   "cell_type": "code",
   "execution_count": null,
   "metadata": {},
   "outputs": [],
   "source": []
  },
  {
   "cell_type": "code",
   "execution_count": null,
   "metadata": {},
   "outputs": [],
   "source": []
  }
 ],
 "metadata": {
  "kernelspec": {
   "display_name": "Python 3",
   "language": "python",
   "name": "python3"
  },
  "language_info": {
   "codemirror_mode": {
    "name": "ipython",
    "version": 3
   },
   "file_extension": ".py",
   "mimetype": "text/x-python",
   "name": "python",
   "nbconvert_exporter": "python",
   "pygments_lexer": "ipython3",
   "version": "3.7.0"
  }
 },
 "nbformat": 4,
 "nbformat_minor": 2
}

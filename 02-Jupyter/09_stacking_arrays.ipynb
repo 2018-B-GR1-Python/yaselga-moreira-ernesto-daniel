{
 "cells": [
  {
   "cell_type": "code",
   "execution_count": 1,
   "metadata": {},
   "outputs": [],
   "source": [
    "import numpy as np"
   ]
  },
  {
   "cell_type": "code",
   "execution_count": 3,
   "metadata": {},
   "outputs": [
    {
     "name": "stdout",
     "output_type": "stream",
     "text": [
      "[['Ecuador' 'Peru']\n",
      " ['Colombia' 'Uruguay']]\n",
      "(2, 2)\n"
     ]
    }
   ],
   "source": [
    "paises_uno = np.array([['Ecuador','Peru'],['Colombia','Uruguay']])\n",
    "paises_dos = np.array([['Brazil','Mexico'],['Venenzuela','Argentina']])\n",
    "print(paises_uno)\n",
    "print(paises_dos.shape)"
   ]
  },
  {
   "cell_type": "code",
   "execution_count": 4,
   "metadata": {},
   "outputs": [
    {
     "name": "stdout",
     "output_type": "stream",
     "text": [
      "[['Ecuador' 'Peru']\n",
      " ['Colombia' 'Uruguay']\n",
      " ['Brazil' 'Mexico']\n",
      " ['Venenzuela' 'Argentina']]\n"
     ]
    }
   ],
   "source": [
    "#concatenate\n",
    "paises_concatenados = np.concatenate((paises_uno,paises_dos))\n",
    "print(paises_concatenados)"
   ]
  },
  {
   "cell_type": "code",
   "execution_count": 8,
   "metadata": {},
   "outputs": [
    {
     "name": "stdout",
     "output_type": "stream",
     "text": [
      "[['Ecuador' 'Peru' 'Brazil' 'Mexico']\n",
      " ['Colombia' 'Uruguay' 'Venenzuela' 'Argentina']]\n"
     ]
    }
   ],
   "source": [
    "#concatenate en y\n",
    "paises_concatenados_en_y = np.concatenate((paises_uno,paises_dos),axis =1)\n",
    "print(paises_concatenados_en_y)"
   ]
  },
  {
   "cell_type": "code",
   "execution_count": 17,
   "metadata": {},
   "outputs": [
    {
     "name": "stdout",
     "output_type": "stream",
     "text": [
      "[[1 2 3]\n",
      " [4 5 6]]\n",
      "[['adrian' 'ernesto' 'daniel' 'paola']\n",
      " ['1' '2' '3' '4']\n",
      " ['3.1' '7.2' '8.7' '7.6']]\n",
      "(3, 4)\n",
      "[['adrian' '1' '3.1']\n",
      " ['ernesto' '2' '7.2']\n",
      " ['daniel' '3' '8.7']\n",
      " ['paola' '4' '7.6']]\n"
     ]
    }
   ],
   "source": [
    "#stack\n",
    "a = np.array([1,2,3])\n",
    "b = np.array([4,5,6])\n",
    "c = np.stack((a,b))\n",
    "print(c)\n",
    "\n",
    "nombres = ['adrian','ernesto','daniel','paola']\n",
    "ids=['1','2','3','4']\n",
    "notas = [3.1,7.2,8.7,7.6]\n",
    "\n",
    "print(np.stack((nombres,ids,notas)))\n",
    "print(np.stack((nombres,ids,notas)).shape)\n",
    "print(np.stack((nombres,ids,notas),axis=1))\n"
   ]
  },
  {
   "cell_type": "code",
   "execution_count": null,
   "metadata": {},
   "outputs": [],
   "source": []
  }
 ],
 "metadata": {
  "kernelspec": {
   "display_name": "Python 3",
   "language": "python",
   "name": "python3"
  },
  "language_info": {
   "codemirror_mode": {
    "name": "ipython",
    "version": 3
   },
   "file_extension": ".py",
   "mimetype": "text/x-python",
   "name": "python",
   "nbconvert_exporter": "python",
   "pygments_lexer": "ipython3",
   "version": "3.7.0"
  }
 },
 "nbformat": 4,
 "nbformat_minor": 2
}

{
 "cells": [
  {
   "cell_type": "code",
   "execution_count": 1,
   "metadata": {},
   "outputs": [],
   "source": [
    "import numpy as np"
   ]
  },
  {
   "cell_type": "code",
   "execution_count": 5,
   "metadata": {},
   "outputs": [
    {
     "name": "stdout",
     "output_type": "stream",
     "text": [
      "[[1 2 3]\n",
      " [4 5 6]]\n"
     ]
    }
   ],
   "source": [
    "arreglo_numeros = np.array([[1,2,3],[4,5,6]]) #np.array define arreglos de n dimensiones\n",
    "print (arreglo_numeros)"
   ]
  },
  {
   "cell_type": "code",
   "execution_count": 3,
   "metadata": {},
   "outputs": [
    {
     "data": {
      "text/plain": [
       "array([[0., 0., 0., 0.],\n",
       "       [0., 0., 0., 0.],\n",
       "       [0., 0., 0., 0.]])"
      ]
     },
     "execution_count": 3,
     "metadata": {},
     "output_type": "execute_result"
    }
   ],
   "source": [
    "np.zeros((3,4)) # define arreglos de n dimensiones lleno de ceros\n",
    "np.zeros((3,2,2)) "
   ]
  },
  {
   "cell_type": "code",
   "execution_count": null,
   "metadata": {},
   "outputs": [],
   "source": []
  },
  {
   "cell_type": "code",
   "execution_count": 9,
   "metadata": {},
   "outputs": [
    {
     "data": {
      "text/plain": [
       "array([[[1., 1., 1.],\n",
       "        [1., 1., 1.],\n",
       "        [1., 1., 1.],\n",
       "        [1., 1., 1.],\n",
       "        [1., 1., 1.]],\n",
       "\n",
       "       [[1., 1., 1.],\n",
       "        [1., 1., 1.],\n",
       "        [1., 1., 1.],\n",
       "        [1., 1., 1.],\n",
       "        [1., 1., 1.]]])"
      ]
     },
     "execution_count": 9,
     "metadata": {},
     "output_type": "execute_result"
    }
   ],
   "source": [
    "np.ones((5)) # define arreglos de n dimensiones lleno de unos\n",
    "np.ones((5,3))\n",
    "np.ones((2,5,3))"
   ]
  },
  {
   "cell_type": "code",
   "execution_count": 50,
   "metadata": {},
   "outputs": [
    {
     "name": "stdout",
     "output_type": "stream",
     "text": [
      "[1. 1. 1. 1. 1.]\n",
      "[[0.000e+000 4.941e-324 9.881e-324]\n",
      " [4.931e-321 4.936e-321 4.941e-321]]\n",
      "[[0. 0.]\n",
      " [0. 0.]\n",
      " [0. 0.]]\n",
      "[[[4.67433233e-310 3.16251369e+180]\n",
      "  [8.82087199e+199 2.87289988e+257]\n",
      "  [6.01428146e+175 2.87289953e+257]]\n",
      "\n",
      " [[2.87518202e+161 4.51545800e-144]\n",
      "  [2.86530729e+161 5.31967571e+233]\n",
      "  [6.32299171e+233 1.14366247e+243]]]\n"
     ]
    }
   ],
   "source": [
    "print(np.empty((5))) # define arreglos de n dimensiones lleno de ceros\n",
    "print(np.empty((2,3))) # define arreglos de n dimensiones lleno con basura del \n",
    "print(np.zeros((3,2)))\n",
    "print(np.empty((2,3,2)))"
   ]
  },
  {
   "cell_type": "code",
   "execution_count": 17,
   "metadata": {},
   "outputs": [
    {
     "data": {
      "text/plain": [
       "array([[1., 0., 0., 0.],\n",
       "       [0., 1., 0., 0.],\n",
       "       [0., 0., 1., 0.],\n",
       "       [0., 0., 0., 1.]])"
      ]
     },
     "execution_count": 17,
     "metadata": {},
     "output_type": "execute_result"
    }
   ],
   "source": [
    "np.eye(4) #matriz identidad de nxn dimensiones"
   ]
  },
  {
   "cell_type": "code",
   "execution_count": 20,
   "metadata": {},
   "outputs": [
    {
     "name": "stdout",
     "output_type": "stream",
     "text": [
      "[ 0  1  2  3  4  5  6  7  8  9 10 11]\n",
      "[ 3  4  5  6  7  8  9 10 11 12 13 14 15 16 17 18 19 20 21 22 23 24 25 26\n",
      " 27 28 29 30 31 32 33 34 35 36 37 38 39 40 41 42 43 44 45 46 47 48 49]\n",
      "[ 4  6  8 10 12 14 16 18]\n"
     ]
    }
   ],
   "source": [
    "print(np.arange(12)) #crea un arreglo de numeros del tamaño especificado\n",
    "print(np.arange(3,50)) #con 2 parámetros define inicio y fin\n",
    "print(np.arange(4,20,2)) #con 3 parámetros define "
   ]
  },
  {
   "cell_type": "code",
   "execution_count": 23,
   "metadata": {},
   "outputs": [
    {
     "data": {
      "text/plain": [
       "(2, 3)"
      ]
     },
     "execution_count": 23,
     "metadata": {},
     "output_type": "execute_result"
    }
   ],
   "source": [
    "arreglo_dimension = np.array([(1,2,3),(4,5,6)])\n",
    "arreglo_dimension.shape"
   ]
  },
  {
   "cell_type": "code",
   "execution_count": 29,
   "metadata": {},
   "outputs": [
    {
     "data": {
      "text/plain": [
       "array([[ 0,  1,  2],\n",
       "       [ 3,  4,  5],\n",
       "       [ 6,  7,  8],\n",
       "       [ 9, 10, 11]])"
      ]
     },
     "execution_count": 29,
     "metadata": {},
     "output_type": "execute_result"
    }
   ],
   "source": [
    "np.arange(12).reshape(4,3) #cambia las dimensiones del arreglo a las definidas en el reshape"
   ]
  },
  {
   "cell_type": "code",
   "execution_count": 31,
   "metadata": {},
   "outputs": [
    {
     "data": {
      "text/plain": [
       "array([1, 1, 1, 1, 1, 1])"
      ]
     },
     "execution_count": 31,
     "metadata": {},
     "output_type": "execute_result"
    }
   ],
   "source": [
    "np.ones_like(np.arange(6).reshape(3,2)) \n",
    "np.ones_like(np.arange(6)) #llena de nuemros 1"
   ]
  },
  {
   "cell_type": "code",
   "execution_count": 32,
   "metadata": {},
   "outputs": [
    {
     "data": {
      "text/plain": [
       "array([[[[ 0,  1],\n",
       "         [ 2,  3]],\n",
       "\n",
       "        [[ 4,  5],\n",
       "         [ 6,  7]]],\n",
       "\n",
       "\n",
       "       [[[ 8,  9],\n",
       "         [10, 11]],\n",
       "\n",
       "        [[12, 13],\n",
       "         [14, 15]]],\n",
       "\n",
       "\n",
       "       [[[16, 17],\n",
       "         [18, 19]],\n",
       "\n",
       "        [[20, 21],\n",
       "         [22, 23]]]])"
      ]
     },
     "execution_count": 32,
     "metadata": {},
     "output_type": "execute_result"
    }
   ],
   "source": [
    "np.arange(24).reshape(3,2,2,2)"
   ]
  },
  {
   "cell_type": "code",
   "execution_count": 51,
   "metadata": {},
   "outputs": [
    {
     "data": {
      "text/plain": [
       "array([   0,    1,    2, ...,  998,  999, 1000])"
      ]
     },
     "execution_count": 51,
     "metadata": {},
     "output_type": "execute_result"
    }
   ],
   "source": [
    "np.arange(10000)\n",
    "np.arange(10000).reshape(100,10,10)\n",
    "np.arange(1001)"
   ]
  },
  {
   "cell_type": "code",
   "execution_count": 52,
   "metadata": {},
   "outputs": [],
   "source": [
    "a = np.array([10,10,10])\n",
    "b = np.array([5,5,5])"
   ]
  },
  {
   "cell_type": "code",
   "execution_count": 53,
   "metadata": {},
   "outputs": [
    {
     "name": "stdout",
     "output_type": "stream",
     "text": [
      "[15 15 15]\n"
     ]
    }
   ],
   "source": [
    "print(a+b) #suma de arreglos"
   ]
  },
  {
   "cell_type": "code",
   "execution_count": 54,
   "metadata": {},
   "outputs": [
    {
     "name": "stdout",
     "output_type": "stream",
     "text": [
      "[5 5 5]\n"
     ]
    }
   ],
   "source": [
    "print(a-b) #regla de arreglos"
   ]
  },
  {
   "cell_type": "code",
   "execution_count": 55,
   "metadata": {},
   "outputs": [
    {
     "name": "stdout",
     "output_type": "stream",
     "text": [
      "[50 50 50]\n"
     ]
    }
   ],
   "source": [
    "print(a*b) #multiplicacion de arreglos"
   ]
  },
  {
   "cell_type": "code",
   "execution_count": 57,
   "metadata": {},
   "outputs": [
    {
     "name": "stdout",
     "output_type": "stream",
     "text": [
      "[2. 2. 2.]\n"
     ]
    }
   ],
   "source": [
    "print(a/b) #divicion de arreglos"
   ]
  },
  {
   "cell_type": "code",
   "execution_count": 59,
   "metadata": {},
   "outputs": [
    {
     "name": "stdout",
     "output_type": "stream",
     "text": [
      "[ 0  1  2  3  4  5  6  7  8  9 10 11 12 13 14 15 16 17]\n",
      "[0.  0.5 1.  1.5 2.  2.5 3.  3.5 4.  4.5 5.  5.5 6.  6.5 7.  7.5 8.  8.5]\n",
      "[0 1 2 0 1 2 0 1 2 0 1 2 0 1 2 0 1 2]\n"
     ]
    }
   ],
   "source": [
    "arreglo_dios_ocho = np.arange(18)\n",
    "print(arreglo_dios_ocho)\n",
    "print(arreglo_dios_ocho / 2) # division de cada valor del arreglo\n",
    "print(arreglo_dios_ocho % 3) # modulo de cada valor del arreglo"
   ]
  },
  {
   "cell_type": "code",
   "execution_count": 60,
   "metadata": {},
   "outputs": [
    {
     "name": "stdout",
     "output_type": "stream",
     "text": [
      "[False False False False False False False False False False  True  True\n",
      "  True  True  True  True  True  True]\n"
     ]
    }
   ],
   "source": [
    "#Expresiones\n",
    "print (arreglo_dios_ocho > 9)"
   ]
  },
  {
   "cell_type": "code",
   "execution_count": 84,
   "metadata": {},
   "outputs": [
    {
     "name": "stdout",
     "output_type": "stream",
     "text": [
      "A=  [[0 1]\n",
      " [2 3]]\n",
      "B=  [[4 5]\n",
      " [6 7]]\n"
     ]
    },
    {
     "data": {
      "text/plain": [
       "array([[ 0,  5],\n",
       "       [12, 21]])"
      ]
     },
     "execution_count": 84,
     "metadata": {},
     "output_type": "execute_result"
    }
   ],
   "source": [
    "#Multiplicacion de varias dimensiones (pero no es multiplicacion de matrices)\n",
    "A = np.arange(4).reshape(2,2)\n",
    "print (\"A= \",A)\n",
    "B = np.arange(4,8).reshape(2,2)\n",
    "print (\"B= \",B)\n",
    "\n",
    "A * B\n"
   ]
  },
  {
   "cell_type": "code",
   "execution_count": 98,
   "metadata": {},
   "outputs": [
    {
     "name": "stdout",
     "output_type": "stream",
     "text": [
      "[[ 6  7]\n",
      " [26 31]]\n"
     ]
    }
   ],
   "source": [
    "# Multiplicacione dot (multiplicacion de matrices)\n",
    "A.dot(B)\n",
    "C = np.zeros(4).reshape(2,2)\n",
    "C = A.dot(B)\n",
    "print(C)"
   ]
  },
  {
   "cell_type": "code",
   "execution_count": 106,
   "metadata": {},
   "outputs": [
    {
     "name": "stdout",
     "output_type": "stream",
     "text": [
      "[0 1 2 3 4 5 6 7 8 9]\n",
      "45\n",
      "0\n",
      "9\n"
     ]
    }
   ],
   "source": [
    "arreglo_diez_elementos = np.arange(10)\n",
    "print(arreglo_diez_elementos)\n",
    "print(arreglo_diez_elementos.sum())\n",
    "print(arreglo_diez_elementos.min())\n",
    "print(arreglo_diez_elementos.max())\n"
   ]
  },
  {
   "cell_type": "code",
   "execution_count": 104,
   "metadata": {},
   "outputs": [
    {
     "name": "stdout",
     "output_type": "stream",
     "text": [
      "[[ 0  1  2  3]\n",
      " [ 4  5  6  7]\n",
      " [ 8  9 10 11]]\n",
      "[12 15 18 21]\n",
      "[ 6 22 38]\n"
     ]
    }
   ],
   "source": [
    "arreglo_tres_cuatro = np.arange(12).reshape(3,4)\n",
    "print(arreglo_tres_cuatro)\n",
    "print(arreglo_tres_cuatro.sum(axis=0)) #suma en el eje X\n",
    "print(arreglo_tres_cuatro.sum(axis=1)) #suma en el eje Y"
   ]
  },
  {
   "cell_type": "markdown",
   "metadata": {},
   "source": [
    "# universal functions\n",
    "## radianes"
   ]
  },
  {
   "cell_type": "code",
   "execution_count": 117,
   "metadata": {},
   "outputs": [
    {
     "name": "stdout",
     "output_type": "stream",
     "text": [
      "[ 0 30 45 60 90]\n",
      "[0.         0.52359878 0.78539816 1.04719755 1.57079633]\n",
      "PI =  3.141592653589793\n"
     ]
    }
   ],
   "source": [
    "angulos_cero_noventa = np.array([0,30,45,60,90])\n",
    "print(angulos_cero_noventa)\n",
    "angulos_cero_noventa_radianes = angulos_cero_noventa * np.pi/180\n",
    "print(angulos_cero_noventa_radianes)\n",
    "print(\"PI = \",np.pi)"
   ]
  },
  {
   "cell_type": "code",
   "execution_count": 121,
   "metadata": {},
   "outputs": [
    {
     "name": "stdout",
     "output_type": "stream",
     "text": [
      "Seno [ 0.         -0.98803162  0.85090352 -0.30481062  0.89399666]\n",
      "Coseno [ 1.          0.15425145  0.52532199 -0.95241298 -0.44807362]\n",
      "Tangente [ 0.         -6.4053312   1.61977519  0.32004039 -1.99520041]\n"
     ]
    }
   ],
   "source": [
    "#Funcion seno\n",
    "print(\"Seno\",np.sin(angulos_cero_noventa))\n",
    "print(\"Coseno\",np.cos(angulos_cero_noventa))\n",
    "print(\"Tangente\",np.tan(angulos_cero_noventa))"
   ]
  },
  {
   "cell_type": "code",
   "execution_count": 141,
   "metadata": {},
   "outputs": [
    {
     "name": "stdout",
     "output_type": "stream",
     "text": [
      "[3.08602377 7.57525753 6.71276919 9.30553768 8.90268856 3.97755491\n",
      " 5.99427496 2.20777084 2.68104661 0.76420278 3.3878174  2.84152266\n",
      " 6.93048399 8.67480709 1.91695167 2.56726279 1.95731137 0.06464032\n",
      " 2.53746418 0.69039733 5.18866528 0.47844567 6.54168833 5.36650066\n",
      " 0.75359889 7.94049098 1.69526853 2.12077367 7.3629648  8.44888754]\n",
      "4.289102333342617\n",
      "3.361584266326508\n",
      "\n"
     ]
    }
   ],
   "source": [
    "#Media, Mediana, Moda\n",
    "arreglo_diez_elementos = np.random.rand(30)*10\n",
    "print(notas)\n",
    "print(notas.mean())\n",
    "print(np.median(arreglo_diez_elementos))\n",
    "print()"
   ]
  },
  {
   "cell_type": "code",
   "execution_count": 145,
   "metadata": {},
   "outputs": [
    {
     "name": "stdout",
     "output_type": "stream",
     "text": [
      "[5.56512607 8.98786287 2.52254916 7.33104226 9.19579976 4.25870163\n",
      " 2.75009802 0.47902857 9.64546645 3.09637368 0.48462534 0.37737111\n",
      " 1.85168568 7.50250974 0.69419464 5.18217582 2.03991001 0.13090478\n",
      " 1.48506469 0.08502462 4.33955066 8.81104715 9.41898607 6.73829569\n",
      " 0.65754798 3.62679485 8.82265767 2.65005394 5.92377307 2.82732187]\n",
      "3.2103923528590452\n"
     ]
    }
   ],
   "source": [
    "#Desviacion Estandar\n",
    "print(arreglo_diez_elementos)\n",
    "print(np.std(arreglo_diez_elementos))"
   ]
  },
  {
   "cell_type": "code",
   "execution_count": 146,
   "metadata": {
    "scrolled": true
   },
   "outputs": [
    {
     "name": "stdout",
     "output_type": "stream",
     "text": [
      "[5.56512607 8.98786287 2.52254916 7.33104226 9.19579976 4.25870163\n",
      " 2.75009802 0.47902857 9.64546645 3.09637368 0.48462534 0.37737111\n",
      " 1.85168568 7.50250974 0.69419464 5.18217582 2.03991001 0.13090478\n",
      " 1.48506469 0.08502462 4.33955066 8.81104715 9.41898607 6.73829569\n",
      " 0.65754798 3.62679485 8.82265767 2.65005394 5.92377307 2.82732187]\n",
      "10.306619059295837\n"
     ]
    }
   ],
   "source": [
    "#Varianza\n",
    "print(arreglo_diez_elementos)\n",
    "print(np.var(arreglo_diez_elementos))"
   ]
  },
  {
   "cell_type": "code",
   "execution_count": 158,
   "metadata": {},
   "outputs": [
    {
     "name": "stdout",
     "output_type": "stream",
     "text": [
      "[[ 110.  250.  830.   40.  520.  123.  345.  123.  345.  132. 3245.  123.\n",
      "   678.   23.  575.  234.  855.  121.]\n",
      " [ 110.  250.  830.   40.  520.  123.  345.  123.  345.  132. 3245.  123.\n",
      "   678.   23.  575.  234.  855.  121.]\n",
      " [ 110.  250.  830.   40.  520.  123.  345.  123.  345.  132. 3245.  123.\n",
      "   678.   23.  575.  234.  855.  121.]\n",
      " [ 110.  250.  830.   40.  520.  123.  345.  123.  345.  132. 3245.  123.\n",
      "   678.   23.  575.  234.  855.  121.]\n",
      " [ 110.  250.  830.   40.  520.  123.  345.  123.  345.  132. 3245.  123.\n",
      "   678.   23.  575.  234.  855.  121.]\n",
      " [ 110.  250.  830.   40.  520.  123.  345.  123.  345.  132. 3245.  123.\n",
      "   678.   23.  575.  234.  855.  121.]\n",
      " [ 110.  250.  830.   40.  520.  123.  345.  123.  345.  132. 3245.  123.\n",
      "   678.   23.  575.  234.  855.  121.]]\n",
      "(7, 18)\n",
      "Desviacion Estandar 718.0091732279652\n",
      "Varianza 515537.1728395061\n"
     ]
    }
   ],
   "source": [
    "#salarios\n",
    "salarios = np.genfromtxt('data/salarios.csv',delimiter=',')\n",
    "print(salarios)\n",
    "print(salarios.shape)\n",
    "print(\"Desviacion Estandar\",np.std(salarios))\n",
    "print(\"Varianza\",np.var(salarios))"
   ]
  },
  {
   "cell_type": "code",
   "execution_count": 176,
   "metadata": {},
   "outputs": [
    {
     "name": "stdout",
     "output_type": "stream",
     "text": [
      "[  0   1   4   9  16  25  36  49  64  81 100]\n",
      "[0 1 4]\n",
      "64\n",
      "[ 4  9 16 25 36 49]\n",
      "[ 9 16 25 36 49 64 81]\n",
      "[  1   4   9  16  25  36  49  64  81 100]\n",
      "[ 0  1  4  9 16]\n",
      "[ 0  1  4  9 16]\n",
      "[ 4 36]\n",
      "[ 0  4 16 36 64]\n",
      "[100  81  64  49  36  25  16   9   4   1   0]\n"
     ]
    }
   ],
   "source": [
    "#Slice and Dice\n",
    "arreglo_once_cuadrado = np.arange(11)**2\n",
    "print(arreglo_once_cuadrado)\n",
    "print(arreglo_once_cuadrado[0:3])\n",
    "print(arreglo_once_cuadrado[-3])\n",
    "print(arreglo_once_cuadrado[2:-3])\n",
    "print(arreglo_once_cuadrado[-8:-1])\n",
    "print(arreglo_once_cuadrado[1:])\n",
    "print(arreglo_once_cuadrado[:5])\n",
    "print(arreglo_once_cuadrado[:5])\n",
    "print(arreglo_once_cuadrado[2:8:4])\n",
    "print(arreglo_once_cuadrado[:10:2])\n",
    "print(arreglo_once_cuadrado[::-1])"
   ]
  },
  {
   "cell_type": "code",
   "execution_count": null,
   "metadata": {},
   "outputs": [],
   "source": []
  }
 ],
 "metadata": {
  "kernelspec": {
   "display_name": "Python 3",
   "language": "python",
   "name": "python3"
  },
  "language_info": {
   "codemirror_mode": {
    "name": "ipython",
    "version": 3
   },
   "file_extension": ".py",
   "mimetype": "text/x-python",
   "name": "python",
   "nbconvert_exporter": "python",
   "pygments_lexer": "ipython3",
   "version": "3.7.0"
  }
 },
 "nbformat": 4,
 "nbformat_minor": 2
}
